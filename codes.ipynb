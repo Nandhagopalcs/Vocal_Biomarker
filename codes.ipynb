{
 "cells": [
  {
   "cell_type": "code",
   "execution_count": 1,
   "metadata": {},
   "outputs": [],
   "source": [
    "import pandas as pd\n",
    "import numpy as np\n",
    "import matplotlib as plt\n",
    "%matplotlib inline"
   ]
  },
  {
   "cell_type": "code",
   "execution_count": 2,
   "metadata": {},
   "outputs": [],
   "source": [
    "data=pd.read_csv('Corona-Hack-Respiratory-Sound-Metadata.csv',encoding='latin1')"
   ]
  },
  {
   "cell_type": "code",
   "execution_count": 3,
   "metadata": {},
   "outputs": [
    {
     "data": {
      "text/html": [
       "<div>\n",
       "<style scoped>\n",
       "    .dataframe tbody tr th:only-of-type {\n",
       "        vertical-align: middle;\n",
       "    }\n",
       "\n",
       "    .dataframe tbody tr th {\n",
       "        vertical-align: top;\n",
       "    }\n",
       "\n",
       "    .dataframe thead th {\n",
       "        text-align: right;\n",
       "    }\n",
       "</style>\n",
       "<table border=\"1\" class=\"dataframe\">\n",
       "  <thead>\n",
       "    <tr style=\"text-align: right;\">\n",
       "      <th></th>\n",
       "      <th>USER_ID</th>\n",
       "      <th>COUNTRY</th>\n",
       "      <th>AGE</th>\n",
       "      <th>COVID_STATUS</th>\n",
       "      <th>ENGLISH_PROFICIENCY</th>\n",
       "      <th>GENDER</th>\n",
       "      <th>COUNTY_RO_STATE</th>\n",
       "      <th>CITY_LOCALITY</th>\n",
       "      <th>Diabetes</th>\n",
       "      <th>Asthma</th>\n",
       "      <th>...</th>\n",
       "      <th>DATES</th>\n",
       "      <th>breathing-deep</th>\n",
       "      <th>breathing-shallow</th>\n",
       "      <th>cough-heavy</th>\n",
       "      <th>cough-shallow</th>\n",
       "      <th>counting-fast</th>\n",
       "      <th>counting-normal</th>\n",
       "      <th>vowel-a</th>\n",
       "      <th>vowel-e</th>\n",
       "      <th>vowel-o</th>\n",
       "    </tr>\n",
       "  </thead>\n",
       "  <tbody>\n",
       "    <tr>\n",
       "      <th>0</th>\n",
       "      <td>vK2bLRNzllXNeyOMudnNSL5cfpG2</td>\n",
       "      <td>India</td>\n",
       "      <td>24</td>\n",
       "      <td>healthy</td>\n",
       "      <td>Y</td>\n",
       "      <td>M</td>\n",
       "      <td>Karnataka</td>\n",
       "      <td>Bangalore</td>\n",
       "      <td>0</td>\n",
       "      <td>0</td>\n",
       "      <td>...</td>\n",
       "      <td>20200413</td>\n",
       "      <td>/data/train/20200413/vK2bLRNzllXNeyOMudnNSL5cf...</td>\n",
       "      <td>/data/train/20200413/vK2bLRNzllXNeyOMudnNSL5cf...</td>\n",
       "      <td>/data/train/20200413/vK2bLRNzllXNeyOMudnNSL5cf...</td>\n",
       "      <td>/data/train/20200413/vK2bLRNzllXNeyOMudnNSL5cf...</td>\n",
       "      <td>/data/train/20200413/vK2bLRNzllXNeyOMudnNSL5cf...</td>\n",
       "      <td>/data/train/20200413/vK2bLRNzllXNeyOMudnNSL5cf...</td>\n",
       "      <td>/data/train/20200413/vK2bLRNzllXNeyOMudnNSL5cf...</td>\n",
       "      <td>/data/train/20200413/vK2bLRNzllXNeyOMudnNSL5cf...</td>\n",
       "      <td>/data/train/20200413/vK2bLRNzllXNeyOMudnNSL5cf...</td>\n",
       "    </tr>\n",
       "    <tr>\n",
       "      <th>1</th>\n",
       "      <td>bjA2KpSxneNskrLBeqi4bqoTDQl2</td>\n",
       "      <td>India</td>\n",
       "      <td>72</td>\n",
       "      <td>healthy</td>\n",
       "      <td>Y</td>\n",
       "      <td>M</td>\n",
       "      <td>Maharashtra</td>\n",
       "      <td>Thane</td>\n",
       "      <td>0</td>\n",
       "      <td>0</td>\n",
       "      <td>...</td>\n",
       "      <td>20200413</td>\n",
       "      <td>/data/train/20200413/bjA2KpSxneNskrLBeqi4bqoTD...</td>\n",
       "      <td>/data/train/20200413/bjA2KpSxneNskrLBeqi4bqoTD...</td>\n",
       "      <td>/data/train/20200413/bjA2KpSxneNskrLBeqi4bqoTD...</td>\n",
       "      <td>/data/train/20200413/bjA2KpSxneNskrLBeqi4bqoTD...</td>\n",
       "      <td>/data/train/20200413/bjA2KpSxneNskrLBeqi4bqoTD...</td>\n",
       "      <td>/data/train/20200413/bjA2KpSxneNskrLBeqi4bqoTD...</td>\n",
       "      <td>/data/train/20200413/bjA2KpSxneNskrLBeqi4bqoTD...</td>\n",
       "      <td>/data/train/20200413/bjA2KpSxneNskrLBeqi4bqoTD...</td>\n",
       "      <td>/data/train/20200413/bjA2KpSxneNskrLBeqi4bqoTD...</td>\n",
       "    </tr>\n",
       "    <tr>\n",
       "      <th>2</th>\n",
       "      <td>FSzobvJqOXf0rI6X05cHqOiU9Mu2</td>\n",
       "      <td>India</td>\n",
       "      <td>54</td>\n",
       "      <td>healthy</td>\n",
       "      <td>Y</td>\n",
       "      <td>M</td>\n",
       "      <td>Maharashtra</td>\n",
       "      <td>Thane West</td>\n",
       "      <td>0</td>\n",
       "      <td>0</td>\n",
       "      <td>...</td>\n",
       "      <td>20200413</td>\n",
       "      <td>/data/train/20200413/FSzobvJqOXf0rI6X05cHqOiU9...</td>\n",
       "      <td>/data/train/20200413/FSzobvJqOXf0rI6X05cHqOiU9...</td>\n",
       "      <td>/data/train/20200413/FSzobvJqOXf0rI6X05cHqOiU9...</td>\n",
       "      <td>/data/train/20200413/FSzobvJqOXf0rI6X05cHqOiU9...</td>\n",
       "      <td>/data/train/20200413/FSzobvJqOXf0rI6X05cHqOiU9...</td>\n",
       "      <td>/data/train/20200413/FSzobvJqOXf0rI6X05cHqOiU9...</td>\n",
       "      <td>/data/train/20200413/FSzobvJqOXf0rI6X05cHqOiU9...</td>\n",
       "      <td>/data/train/20200413/FSzobvJqOXf0rI6X05cHqOiU9...</td>\n",
       "      <td>/data/train/20200413/FSzobvJqOXf0rI6X05cHqOiU9...</td>\n",
       "    </tr>\n",
       "    <tr>\n",
       "      <th>3</th>\n",
       "      <td>EqDWckxbsETyHUeBLQ8jLtxlhir2</td>\n",
       "      <td>India</td>\n",
       "      <td>31</td>\n",
       "      <td>healthy</td>\n",
       "      <td>Y</td>\n",
       "      <td>M</td>\n",
       "      <td>Karnataka</td>\n",
       "      <td>Bangalore</td>\n",
       "      <td>0</td>\n",
       "      <td>0</td>\n",
       "      <td>...</td>\n",
       "      <td>20200413</td>\n",
       "      <td>/data/train/20200413/EqDWckxbsETyHUeBLQ8jLtxlh...</td>\n",
       "      <td>/data/train/20200413/EqDWckxbsETyHUeBLQ8jLtxlh...</td>\n",
       "      <td>/data/train/20200413/EqDWckxbsETyHUeBLQ8jLtxlh...</td>\n",
       "      <td>/data/train/20200413/EqDWckxbsETyHUeBLQ8jLtxlh...</td>\n",
       "      <td>/data/train/20200413/EqDWckxbsETyHUeBLQ8jLtxlh...</td>\n",
       "      <td>/data/train/20200413/EqDWckxbsETyHUeBLQ8jLtxlh...</td>\n",
       "      <td>/data/train/20200413/EqDWckxbsETyHUeBLQ8jLtxlh...</td>\n",
       "      <td>/data/train/20200413/EqDWckxbsETyHUeBLQ8jLtxlh...</td>\n",
       "      <td>/data/train/20200413/EqDWckxbsETyHUeBLQ8jLtxlh...</td>\n",
       "    </tr>\n",
       "    <tr>\n",
       "      <th>4</th>\n",
       "      <td>FGRDO4IBbAejR0WHD5YbkXTCasg2</td>\n",
       "      <td>India</td>\n",
       "      <td>26</td>\n",
       "      <td>healthy</td>\n",
       "      <td>Y</td>\n",
       "      <td>M</td>\n",
       "      <td>Haryana</td>\n",
       "      <td>gurgaon</td>\n",
       "      <td>0</td>\n",
       "      <td>0</td>\n",
       "      <td>...</td>\n",
       "      <td>20200413</td>\n",
       "      <td>/data/train/20200413/FGRDO4IBbAejR0WHD5YbkXTCa...</td>\n",
       "      <td>/data/train/20200413/FGRDO4IBbAejR0WHD5YbkXTCa...</td>\n",
       "      <td>/data/train/20200413/FGRDO4IBbAejR0WHD5YbkXTCa...</td>\n",
       "      <td>/data/train/20200413/FGRDO4IBbAejR0WHD5YbkXTCa...</td>\n",
       "      <td>/data/train/20200413/FGRDO4IBbAejR0WHD5YbkXTCa...</td>\n",
       "      <td>/data/train/20200413/FGRDO4IBbAejR0WHD5YbkXTCa...</td>\n",
       "      <td>/data/train/20200413/FGRDO4IBbAejR0WHD5YbkXTCa...</td>\n",
       "      <td>/data/train/20200413/FGRDO4IBbAejR0WHD5YbkXTCa...</td>\n",
       "      <td>/data/train/20200413/FGRDO4IBbAejR0WHD5YbkXTCa...</td>\n",
       "    </tr>\n",
       "    <tr>\n",
       "      <th>...</th>\n",
       "      <td>...</td>\n",
       "      <td>...</td>\n",
       "      <td>...</td>\n",
       "      <td>...</td>\n",
       "      <td>...</td>\n",
       "      <td>...</td>\n",
       "      <td>...</td>\n",
       "      <td>...</td>\n",
       "      <td>...</td>\n",
       "      <td>...</td>\n",
       "      <td>...</td>\n",
       "      <td>...</td>\n",
       "      <td>...</td>\n",
       "      <td>...</td>\n",
       "      <td>...</td>\n",
       "      <td>...</td>\n",
       "      <td>...</td>\n",
       "      <td>...</td>\n",
       "      <td>...</td>\n",
       "      <td>...</td>\n",
       "      <td>...</td>\n",
       "    </tr>\n",
       "    <tr>\n",
       "      <th>1392</th>\n",
       "      <td>HDZ7Et3VldU238svx2iusUhQ16p2</td>\n",
       "      <td>India</td>\n",
       "      <td>44</td>\n",
       "      <td>no_resp_illness_exposed</td>\n",
       "      <td>Y</td>\n",
       "      <td>M</td>\n",
       "      <td>Karnataka</td>\n",
       "      <td>Bangalore, Bellandur</td>\n",
       "      <td>0</td>\n",
       "      <td>0</td>\n",
       "      <td>...</td>\n",
       "      <td>20210206</td>\n",
       "      <td>/data/test/20210206/HDZ7Et3VldU238svx2iusUhQ16...</td>\n",
       "      <td>/data/test/20210206/HDZ7Et3VldU238svx2iusUhQ16...</td>\n",
       "      <td>/data/test/20210206/HDZ7Et3VldU238svx2iusUhQ16...</td>\n",
       "      <td>/data/test/20210206/HDZ7Et3VldU238svx2iusUhQ16...</td>\n",
       "      <td>/data/test/20210206/HDZ7Et3VldU238svx2iusUhQ16...</td>\n",
       "      <td>/data/test/20210206/HDZ7Et3VldU238svx2iusUhQ16...</td>\n",
       "      <td>/data/test/20210206/HDZ7Et3VldU238svx2iusUhQ16...</td>\n",
       "      <td>/data/test/20210206/HDZ7Et3VldU238svx2iusUhQ16...</td>\n",
       "      <td>/data/test/20210206/HDZ7Et3VldU238svx2iusUhQ16...</td>\n",
       "    </tr>\n",
       "    <tr>\n",
       "      <th>1393</th>\n",
       "      <td>Bb9OMQWb3GNbJDH4gANBkWJ4Ihs1</td>\n",
       "      <td>United States</td>\n",
       "      <td>31</td>\n",
       "      <td>healthy</td>\n",
       "      <td>Y</td>\n",
       "      <td>M</td>\n",
       "      <td>Massachusetts</td>\n",
       "      <td>NaN</td>\n",
       "      <td>0</td>\n",
       "      <td>0</td>\n",
       "      <td>...</td>\n",
       "      <td>20210206</td>\n",
       "      <td>/data/test/20210206/Bb9OMQWb3GNbJDH4gANBkWJ4Ih...</td>\n",
       "      <td>/data/test/20210206/Bb9OMQWb3GNbJDH4gANBkWJ4Ih...</td>\n",
       "      <td>/data/test/20210206/Bb9OMQWb3GNbJDH4gANBkWJ4Ih...</td>\n",
       "      <td>/data/test/20210206/Bb9OMQWb3GNbJDH4gANBkWJ4Ih...</td>\n",
       "      <td>/data/test/20210206/Bb9OMQWb3GNbJDH4gANBkWJ4Ih...</td>\n",
       "      <td>/data/test/20210206/Bb9OMQWb3GNbJDH4gANBkWJ4Ih...</td>\n",
       "      <td>/data/test/20210206/Bb9OMQWb3GNbJDH4gANBkWJ4Ih...</td>\n",
       "      <td>/data/test/20210206/Bb9OMQWb3GNbJDH4gANBkWJ4Ih...</td>\n",
       "      <td>/data/test/20210206/Bb9OMQWb3GNbJDH4gANBkWJ4Ih...</td>\n",
       "    </tr>\n",
       "    <tr>\n",
       "      <th>1394</th>\n",
       "      <td>yL9QW3T2VueXfL3yvsmXsM2hL4v1</td>\n",
       "      <td>United States</td>\n",
       "      <td>20</td>\n",
       "      <td>positive_mild</td>\n",
       "      <td>Y</td>\n",
       "      <td>M</td>\n",
       "      <td>Arizona</td>\n",
       "      <td>Phoenix</td>\n",
       "      <td>0</td>\n",
       "      <td>0</td>\n",
       "      <td>...</td>\n",
       "      <td>20210206</td>\n",
       "      <td>/data/test/20210206/yL9QW3T2VueXfL3yvsmXsM2hL4...</td>\n",
       "      <td>/data/test/20210206/yL9QW3T2VueXfL3yvsmXsM2hL4...</td>\n",
       "      <td>/data/test/20210206/yL9QW3T2VueXfL3yvsmXsM2hL4...</td>\n",
       "      <td>/data/test/20210206/yL9QW3T2VueXfL3yvsmXsM2hL4...</td>\n",
       "      <td>/data/test/20210206/yL9QW3T2VueXfL3yvsmXsM2hL4...</td>\n",
       "      <td>/data/test/20210206/yL9QW3T2VueXfL3yvsmXsM2hL4...</td>\n",
       "      <td>/data/test/20210206/yL9QW3T2VueXfL3yvsmXsM2hL4...</td>\n",
       "      <td>/data/test/20210206/yL9QW3T2VueXfL3yvsmXsM2hL4...</td>\n",
       "      <td>/data/test/20210206/yL9QW3T2VueXfL3yvsmXsM2hL4...</td>\n",
       "    </tr>\n",
       "    <tr>\n",
       "      <th>1395</th>\n",
       "      <td>aRki58kKxnTunoM7BcLiwusqRcV2</td>\n",
       "      <td>India</td>\n",
       "      <td>38</td>\n",
       "      <td>healthy</td>\n",
       "      <td>Y</td>\n",
       "      <td>F</td>\n",
       "      <td>Karnataka</td>\n",
       "      <td>Bangaluru</td>\n",
       "      <td>0</td>\n",
       "      <td>0</td>\n",
       "      <td>...</td>\n",
       "      <td>20210206</td>\n",
       "      <td>/data/test/20210206/aRki58kKxnTunoM7BcLiwusqRc...</td>\n",
       "      <td>/data/test/20210206/aRki58kKxnTunoM7BcLiwusqRc...</td>\n",
       "      <td>/data/test/20210206/aRki58kKxnTunoM7BcLiwusqRc...</td>\n",
       "      <td>/data/test/20210206/aRki58kKxnTunoM7BcLiwusqRc...</td>\n",
       "      <td>/data/test/20210206/aRki58kKxnTunoM7BcLiwusqRc...</td>\n",
       "      <td>/data/test/20210206/aRki58kKxnTunoM7BcLiwusqRc...</td>\n",
       "      <td>/data/test/20210206/aRki58kKxnTunoM7BcLiwusqRc...</td>\n",
       "      <td>/data/test/20210206/aRki58kKxnTunoM7BcLiwusqRc...</td>\n",
       "      <td>/data/test/20210206/aRki58kKxnTunoM7BcLiwusqRc...</td>\n",
       "    </tr>\n",
       "    <tr>\n",
       "      <th>1396</th>\n",
       "      <td>uy91CirxgXNJdJv6AalXx2Tt3Gg1</td>\n",
       "      <td>China</td>\n",
       "      <td>42</td>\n",
       "      <td>healthy</td>\n",
       "      <td>N</td>\n",
       "      <td>M</td>\n",
       "      <td>Fujian</td>\n",
       "      <td>NaN</td>\n",
       "      <td>0</td>\n",
       "      <td>0</td>\n",
       "      <td>...</td>\n",
       "      <td>20210206</td>\n",
       "      <td>/data/test/20210206/uy91CirxgXNJdJv6AalXx2Tt3G...</td>\n",
       "      <td>/data/test/20210206/uy91CirxgXNJdJv6AalXx2Tt3G...</td>\n",
       "      <td>/data/test/20210206/uy91CirxgXNJdJv6AalXx2Tt3G...</td>\n",
       "      <td>/data/test/20210206/uy91CirxgXNJdJv6AalXx2Tt3G...</td>\n",
       "      <td>/data/test/20210206/uy91CirxgXNJdJv6AalXx2Tt3G...</td>\n",
       "      <td>/data/test/20210206/uy91CirxgXNJdJv6AalXx2Tt3G...</td>\n",
       "      <td>/data/test/20210206/uy91CirxgXNJdJv6AalXx2Tt3G...</td>\n",
       "      <td>/data/test/20210206/uy91CirxgXNJdJv6AalXx2Tt3G...</td>\n",
       "      <td>/data/test/20210206/uy91CirxgXNJdJv6AalXx2Tt3G...</td>\n",
       "    </tr>\n",
       "  </tbody>\n",
       "</table>\n",
       "<p>1397 rows × 37 columns</p>\n",
       "</div>"
      ],
      "text/plain": [
       "                           USER_ID        COUNTRY  AGE  \\\n",
       "0     vK2bLRNzllXNeyOMudnNSL5cfpG2          India   24   \n",
       "1     bjA2KpSxneNskrLBeqi4bqoTDQl2          India   72   \n",
       "2     FSzobvJqOXf0rI6X05cHqOiU9Mu2          India   54   \n",
       "3     EqDWckxbsETyHUeBLQ8jLtxlhir2          India   31   \n",
       "4     FGRDO4IBbAejR0WHD5YbkXTCasg2          India   26   \n",
       "...                            ...            ...  ...   \n",
       "1392  HDZ7Et3VldU238svx2iusUhQ16p2          India   44   \n",
       "1393  Bb9OMQWb3GNbJDH4gANBkWJ4Ihs1  United States   31   \n",
       "1394  yL9QW3T2VueXfL3yvsmXsM2hL4v1  United States   20   \n",
       "1395  aRki58kKxnTunoM7BcLiwusqRcV2          India   38   \n",
       "1396  uy91CirxgXNJdJv6AalXx2Tt3Gg1          China   42   \n",
       "\n",
       "                 COVID_STATUS ENGLISH_PROFICIENCY GENDER COUNTY_RO_STATE  \\\n",
       "0                     healthy                   Y      M       Karnataka   \n",
       "1                     healthy                   Y      M     Maharashtra   \n",
       "2                     healthy                   Y      M     Maharashtra   \n",
       "3                     healthy                   Y      M       Karnataka   \n",
       "4                     healthy                   Y      M         Haryana   \n",
       "...                       ...                 ...    ...             ...   \n",
       "1392  no_resp_illness_exposed                   Y      M       Karnataka   \n",
       "1393                  healthy                   Y      M   Massachusetts   \n",
       "1394            positive_mild                   Y      M         Arizona   \n",
       "1395                  healthy                   Y      F       Karnataka   \n",
       "1396                  healthy                   N      M          Fujian   \n",
       "\n",
       "             CITY_LOCALITY  Diabetes  Asthma  ...     DATES  \\\n",
       "0                Bangalore         0       0  ...  20200413   \n",
       "1                    Thane         0       0  ...  20200413   \n",
       "2               Thane West         0       0  ...  20200413   \n",
       "3                Bangalore         0       0  ...  20200413   \n",
       "4                  gurgaon         0       0  ...  20200413   \n",
       "...                    ...       ...     ...  ...       ...   \n",
       "1392  Bangalore, Bellandur         0       0  ...  20210206   \n",
       "1393                   NaN         0       0  ...  20210206   \n",
       "1394               Phoenix         0       0  ...  20210206   \n",
       "1395             Bangaluru         0       0  ...  20210206   \n",
       "1396                   NaN         0       0  ...  20210206   \n",
       "\n",
       "                                         breathing-deep  \\\n",
       "0     /data/train/20200413/vK2bLRNzllXNeyOMudnNSL5cf...   \n",
       "1     /data/train/20200413/bjA2KpSxneNskrLBeqi4bqoTD...   \n",
       "2     /data/train/20200413/FSzobvJqOXf0rI6X05cHqOiU9...   \n",
       "3     /data/train/20200413/EqDWckxbsETyHUeBLQ8jLtxlh...   \n",
       "4     /data/train/20200413/FGRDO4IBbAejR0WHD5YbkXTCa...   \n",
       "...                                                 ...   \n",
       "1392  /data/test/20210206/HDZ7Et3VldU238svx2iusUhQ16...   \n",
       "1393  /data/test/20210206/Bb9OMQWb3GNbJDH4gANBkWJ4Ih...   \n",
       "1394  /data/test/20210206/yL9QW3T2VueXfL3yvsmXsM2hL4...   \n",
       "1395  /data/test/20210206/aRki58kKxnTunoM7BcLiwusqRc...   \n",
       "1396  /data/test/20210206/uy91CirxgXNJdJv6AalXx2Tt3G...   \n",
       "\n",
       "                                      breathing-shallow  \\\n",
       "0     /data/train/20200413/vK2bLRNzllXNeyOMudnNSL5cf...   \n",
       "1     /data/train/20200413/bjA2KpSxneNskrLBeqi4bqoTD...   \n",
       "2     /data/train/20200413/FSzobvJqOXf0rI6X05cHqOiU9...   \n",
       "3     /data/train/20200413/EqDWckxbsETyHUeBLQ8jLtxlh...   \n",
       "4     /data/train/20200413/FGRDO4IBbAejR0WHD5YbkXTCa...   \n",
       "...                                                 ...   \n",
       "1392  /data/test/20210206/HDZ7Et3VldU238svx2iusUhQ16...   \n",
       "1393  /data/test/20210206/Bb9OMQWb3GNbJDH4gANBkWJ4Ih...   \n",
       "1394  /data/test/20210206/yL9QW3T2VueXfL3yvsmXsM2hL4...   \n",
       "1395  /data/test/20210206/aRki58kKxnTunoM7BcLiwusqRc...   \n",
       "1396  /data/test/20210206/uy91CirxgXNJdJv6AalXx2Tt3G...   \n",
       "\n",
       "                                            cough-heavy  \\\n",
       "0     /data/train/20200413/vK2bLRNzllXNeyOMudnNSL5cf...   \n",
       "1     /data/train/20200413/bjA2KpSxneNskrLBeqi4bqoTD...   \n",
       "2     /data/train/20200413/FSzobvJqOXf0rI6X05cHqOiU9...   \n",
       "3     /data/train/20200413/EqDWckxbsETyHUeBLQ8jLtxlh...   \n",
       "4     /data/train/20200413/FGRDO4IBbAejR0WHD5YbkXTCa...   \n",
       "...                                                 ...   \n",
       "1392  /data/test/20210206/HDZ7Et3VldU238svx2iusUhQ16...   \n",
       "1393  /data/test/20210206/Bb9OMQWb3GNbJDH4gANBkWJ4Ih...   \n",
       "1394  /data/test/20210206/yL9QW3T2VueXfL3yvsmXsM2hL4...   \n",
       "1395  /data/test/20210206/aRki58kKxnTunoM7BcLiwusqRc...   \n",
       "1396  /data/test/20210206/uy91CirxgXNJdJv6AalXx2Tt3G...   \n",
       "\n",
       "                                          cough-shallow  \\\n",
       "0     /data/train/20200413/vK2bLRNzllXNeyOMudnNSL5cf...   \n",
       "1     /data/train/20200413/bjA2KpSxneNskrLBeqi4bqoTD...   \n",
       "2     /data/train/20200413/FSzobvJqOXf0rI6X05cHqOiU9...   \n",
       "3     /data/train/20200413/EqDWckxbsETyHUeBLQ8jLtxlh...   \n",
       "4     /data/train/20200413/FGRDO4IBbAejR0WHD5YbkXTCa...   \n",
       "...                                                 ...   \n",
       "1392  /data/test/20210206/HDZ7Et3VldU238svx2iusUhQ16...   \n",
       "1393  /data/test/20210206/Bb9OMQWb3GNbJDH4gANBkWJ4Ih...   \n",
       "1394  /data/test/20210206/yL9QW3T2VueXfL3yvsmXsM2hL4...   \n",
       "1395  /data/test/20210206/aRki58kKxnTunoM7BcLiwusqRc...   \n",
       "1396  /data/test/20210206/uy91CirxgXNJdJv6AalXx2Tt3G...   \n",
       "\n",
       "                                          counting-fast  \\\n",
       "0     /data/train/20200413/vK2bLRNzllXNeyOMudnNSL5cf...   \n",
       "1     /data/train/20200413/bjA2KpSxneNskrLBeqi4bqoTD...   \n",
       "2     /data/train/20200413/FSzobvJqOXf0rI6X05cHqOiU9...   \n",
       "3     /data/train/20200413/EqDWckxbsETyHUeBLQ8jLtxlh...   \n",
       "4     /data/train/20200413/FGRDO4IBbAejR0WHD5YbkXTCa...   \n",
       "...                                                 ...   \n",
       "1392  /data/test/20210206/HDZ7Et3VldU238svx2iusUhQ16...   \n",
       "1393  /data/test/20210206/Bb9OMQWb3GNbJDH4gANBkWJ4Ih...   \n",
       "1394  /data/test/20210206/yL9QW3T2VueXfL3yvsmXsM2hL4...   \n",
       "1395  /data/test/20210206/aRki58kKxnTunoM7BcLiwusqRc...   \n",
       "1396  /data/test/20210206/uy91CirxgXNJdJv6AalXx2Tt3G...   \n",
       "\n",
       "                                        counting-normal  \\\n",
       "0     /data/train/20200413/vK2bLRNzllXNeyOMudnNSL5cf...   \n",
       "1     /data/train/20200413/bjA2KpSxneNskrLBeqi4bqoTD...   \n",
       "2     /data/train/20200413/FSzobvJqOXf0rI6X05cHqOiU9...   \n",
       "3     /data/train/20200413/EqDWckxbsETyHUeBLQ8jLtxlh...   \n",
       "4     /data/train/20200413/FGRDO4IBbAejR0WHD5YbkXTCa...   \n",
       "...                                                 ...   \n",
       "1392  /data/test/20210206/HDZ7Et3VldU238svx2iusUhQ16...   \n",
       "1393  /data/test/20210206/Bb9OMQWb3GNbJDH4gANBkWJ4Ih...   \n",
       "1394  /data/test/20210206/yL9QW3T2VueXfL3yvsmXsM2hL4...   \n",
       "1395  /data/test/20210206/aRki58kKxnTunoM7BcLiwusqRc...   \n",
       "1396  /data/test/20210206/uy91CirxgXNJdJv6AalXx2Tt3G...   \n",
       "\n",
       "                                                vowel-a  \\\n",
       "0     /data/train/20200413/vK2bLRNzllXNeyOMudnNSL5cf...   \n",
       "1     /data/train/20200413/bjA2KpSxneNskrLBeqi4bqoTD...   \n",
       "2     /data/train/20200413/FSzobvJqOXf0rI6X05cHqOiU9...   \n",
       "3     /data/train/20200413/EqDWckxbsETyHUeBLQ8jLtxlh...   \n",
       "4     /data/train/20200413/FGRDO4IBbAejR0WHD5YbkXTCa...   \n",
       "...                                                 ...   \n",
       "1392  /data/test/20210206/HDZ7Et3VldU238svx2iusUhQ16...   \n",
       "1393  /data/test/20210206/Bb9OMQWb3GNbJDH4gANBkWJ4Ih...   \n",
       "1394  /data/test/20210206/yL9QW3T2VueXfL3yvsmXsM2hL4...   \n",
       "1395  /data/test/20210206/aRki58kKxnTunoM7BcLiwusqRc...   \n",
       "1396  /data/test/20210206/uy91CirxgXNJdJv6AalXx2Tt3G...   \n",
       "\n",
       "                                                vowel-e  \\\n",
       "0     /data/train/20200413/vK2bLRNzllXNeyOMudnNSL5cf...   \n",
       "1     /data/train/20200413/bjA2KpSxneNskrLBeqi4bqoTD...   \n",
       "2     /data/train/20200413/FSzobvJqOXf0rI6X05cHqOiU9...   \n",
       "3     /data/train/20200413/EqDWckxbsETyHUeBLQ8jLtxlh...   \n",
       "4     /data/train/20200413/FGRDO4IBbAejR0WHD5YbkXTCa...   \n",
       "...                                                 ...   \n",
       "1392  /data/test/20210206/HDZ7Et3VldU238svx2iusUhQ16...   \n",
       "1393  /data/test/20210206/Bb9OMQWb3GNbJDH4gANBkWJ4Ih...   \n",
       "1394  /data/test/20210206/yL9QW3T2VueXfL3yvsmXsM2hL4...   \n",
       "1395  /data/test/20210206/aRki58kKxnTunoM7BcLiwusqRc...   \n",
       "1396  /data/test/20210206/uy91CirxgXNJdJv6AalXx2Tt3G...   \n",
       "\n",
       "                                                vowel-o  \n",
       "0     /data/train/20200413/vK2bLRNzllXNeyOMudnNSL5cf...  \n",
       "1     /data/train/20200413/bjA2KpSxneNskrLBeqi4bqoTD...  \n",
       "2     /data/train/20200413/FSzobvJqOXf0rI6X05cHqOiU9...  \n",
       "3     /data/train/20200413/EqDWckxbsETyHUeBLQ8jLtxlh...  \n",
       "4     /data/train/20200413/FGRDO4IBbAejR0WHD5YbkXTCa...  \n",
       "...                                                 ...  \n",
       "1392  /data/test/20210206/HDZ7Et3VldU238svx2iusUhQ16...  \n",
       "1393  /data/test/20210206/Bb9OMQWb3GNbJDH4gANBkWJ4Ih...  \n",
       "1394  /data/test/20210206/yL9QW3T2VueXfL3yvsmXsM2hL4...  \n",
       "1395  /data/test/20210206/aRki58kKxnTunoM7BcLiwusqRc...  \n",
       "1396  /data/test/20210206/uy91CirxgXNJdJv6AalXx2Tt3G...  \n",
       "\n",
       "[1397 rows x 37 columns]"
      ]
     },
     "execution_count": 3,
     "metadata": {},
     "output_type": "execute_result"
    }
   ],
   "source": [
    "data"
   ]
  },
  {
   "cell_type": "code",
   "execution_count": 4,
   "metadata": {},
   "outputs": [],
   "source": [
    "import IPython.display as ipd\n",
    "import librosa\n",
    "import librosa.display"
   ]
  },
  {
   "cell_type": "code",
   "execution_count": 5,
   "metadata": {},
   "outputs": [
    {
     "data": {
      "text/plain": [
       "Index(['USER_ID', 'COUNTRY', 'AGE', 'COVID_STATUS', 'ENGLISH_PROFICIENCY',\n",
       "       'GENDER', 'COUNTY_RO_STATE', 'CITY_LOCALITY', 'Diabetes', 'Asthma',\n",
       "       'Smoker', 'Hypertension', 'Fever', 'Returning_User', 'Using_Mask',\n",
       "       'Cold', 'Caugh', 'Muscle_Pain', 'loss_of_smell', 'Sore_Throat',\n",
       "       'Fatigue', 'Breathing_Difficulties', 'Chronic_Lung_Disease',\n",
       "       'Ischemic_Heart_Disease', 'Pneumonia', 'COVID_test_status', 'Diarrheoa',\n",
       "       'DATES', 'breathing-deep', 'breathing-shallow', 'cough-heavy',\n",
       "       'cough-shallow', 'counting-fast', 'counting-normal', 'vowel-a',\n",
       "       'vowel-e', 'vowel-o'],\n",
       "      dtype='object')"
      ]
     },
     "execution_count": 5,
     "metadata": {},
     "output_type": "execute_result"
    }
   ],
   "source": [
    "data.columns"
   ]
  },
  {
   "cell_type": "code",
   "execution_count": 6,
   "metadata": {},
   "outputs": [
    {
     "data": {
      "text/plain": [
       "array(['healthy', 'resp_illness_not_identified', 'ñ',\n",
       "       'no_resp_illness_exposed', 'positive_asymp', 'positive_mild',\n",
       "       'positive_moderate', 'recovered_full'], dtype=object)"
      ]
     },
     "execution_count": 6,
     "metadata": {},
     "output_type": "execute_result"
    }
   ],
   "source": [
    "data['COVID_STATUS'].unique()"
   ]
  },
  {
   "cell_type": "code",
   "execution_count": 7,
   "metadata": {},
   "outputs": [
    {
     "data": {
      "text/plain": [
       "0"
      ]
     },
     "execution_count": 7,
     "metadata": {},
     "output_type": "execute_result"
    }
   ],
   "source": [
    "data['COVID_STATUS'].isnull().sum()"
   ]
  },
  {
   "cell_type": "code",
   "execution_count": 9,
   "metadata": {},
   "outputs": [
    {
     "data": {
      "text/plain": [
       "array([ 0., nan,  1.])"
      ]
     },
     "execution_count": 9,
     "metadata": {},
     "output_type": "execute_result"
    }
   ],
   "source": [
    "data['COVID_test_status'].unique()"
   ]
  },
  {
   "cell_type": "code",
   "execution_count": 10,
   "metadata": {},
   "outputs": [
    {
     "data": {
      "text/plain": [
       "0.0    1341\n",
       "1.0      14\n",
       "Name: COVID_test_status, dtype: int64"
      ]
     },
     "execution_count": 10,
     "metadata": {},
     "output_type": "execute_result"
    }
   ],
   "source": [
    "data['COVID_test_status'].value_counts()"
   ]
  },
  {
   "cell_type": "code",
   "execution_count": 11,
   "metadata": {},
   "outputs": [
    {
     "data": {
      "text/plain": [
       "healthy                        1162\n",
       "no_resp_illness_exposed          90\n",
       "resp_illness_not_identified      78\n",
       "positive_mild                    38\n",
       "positive_asymp                   11\n",
       "recovered_full                   10\n",
       "positive_moderate                 7\n",
       "ñ                                 1\n",
       "Name: COVID_STATUS, dtype: int64"
      ]
     },
     "execution_count": 11,
     "metadata": {},
     "output_type": "execute_result"
    }
   ],
   "source": [
    "data['COVID_STATUS'].value_counts()"
   ]
  },
  {
   "cell_type": "code",
   "execution_count": 14,
   "metadata": {},
   "outputs": [
    {
     "data": {
      "text/plain": [
       "0    1367\n",
       "1      30\n",
       "Name: Returning_User, dtype: int64"
      ]
     },
     "execution_count": 14,
     "metadata": {},
     "output_type": "execute_result"
    }
   ],
   "source": [
    "data['Returning_User'].value_counts()"
   ]
  },
  {
   "cell_type": "code",
   "execution_count": 16,
   "metadata": {},
   "outputs": [
    {
     "data": {
      "text/plain": [
       "0.0    1341\n",
       "1.0      14\n",
       "Name: COVID_test_status, dtype: int64"
      ]
     },
     "execution_count": 16,
     "metadata": {},
     "output_type": "execute_result"
    }
   ],
   "source": [
    "data['COVID_test_status'].value_counts()"
   ]
  },
  {
   "cell_type": "code",
   "execution_count": 18,
   "metadata": {},
   "outputs": [
    {
     "data": {
      "text/plain": [
       "array([ 0., nan,  1.])"
      ]
     },
     "execution_count": 18,
     "metadata": {},
     "output_type": "execute_result"
    }
   ],
   "source": [
    "data['COVID_test_status'].unique()"
   ]
  },
  {
   "cell_type": "code",
   "execution_count": 19,
   "metadata": {},
   "outputs": [
    {
     "data": {
      "text/plain": [
       "42"
      ]
     },
     "execution_count": 19,
     "metadata": {},
     "output_type": "execute_result"
    }
   ],
   "source": [
    "data['COVID_test_status'].isnull().sum()"
   ]
  },
  {
   "cell_type": "code",
   "execution_count": null,
   "metadata": {},
   "outputs": [],
   "source": []
  }
 ],
 "metadata": {
  "kernelspec": {
   "display_name": "Python 3",
   "language": "python",
   "name": "python3"
  },
  "language_info": {
   "codemirror_mode": {
    "name": "ipython",
    "version": 3
   },
   "file_extension": ".py",
   "mimetype": "text/x-python",
   "name": "python",
   "nbconvert_exporter": "python",
   "pygments_lexer": "ipython3",
   "version": "3.8.3"
  }
 },
 "nbformat": 4,
 "nbformat_minor": 4
}
