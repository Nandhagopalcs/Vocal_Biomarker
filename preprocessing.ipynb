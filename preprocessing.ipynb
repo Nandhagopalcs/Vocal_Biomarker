{
 "cells": [
  {
   "cell_type": "code",
   "execution_count": 37,
   "id": "1498365b",
   "metadata": {},
   "outputs": [],
   "source": [
    "import pandas as pd\n",
    "import numpy as np\n",
    "import matplotlib.pyplot as plt\n",
    "%matplotlib inline\n",
    "import IPython.display as ipd\n",
    "import librosa\n",
    "import librosa.display\n",
    "import os"
   ]
  },
  {
   "cell_type": "code",
   "execution_count": 38,
   "id": "3e41bbac",
   "metadata": {},
   "outputs": [],
   "source": [
    "data=pd.read_csv('Corona-Hack-Respiratory-Sound-Metadata.csv',encoding='latin1')"
   ]
  },
  {
   "cell_type": "code",
   "execution_count": 39,
   "id": "65ea3a2b",
   "metadata": {},
   "outputs": [],
   "source": [
    "data.dropna(inplace=True)"
   ]
  },
  {
   "cell_type": "code",
   "execution_count": 40,
   "id": "17b63626",
   "metadata": {},
   "outputs": [],
   "source": [
    "def features_extractor(file):\n",
    "    audio, sample_rate = librosa.load(file, res_type='kaiser_fast') \n",
    "    mfccs_features = librosa.feature.mfcc(y=audio, sr=sample_rate, n_mfcc=40)\n",
    "    mfccs_scaled_features = np.mean(mfccs_features.T,axis=0)\n",
    "    \n",
    "    return mfccs_scaled_features"
   ]
  },
  {
   "cell_type": "code",
   "execution_count": 41,
   "id": "e8adcdee",
   "metadata": {},
   "outputs": [
    {
     "data": {
      "text/plain": [
       "0.0    1181\n",
       "1.0      11\n",
       "Name: COVID_test_status, dtype: int64"
      ]
     },
     "execution_count": 41,
     "metadata": {},
     "output_type": "execute_result"
    }
   ],
   "source": [
    "data['COVID_test_status'].value_counts()"
   ]
  },
  {
   "cell_type": "code",
   "execution_count": null,
   "id": "fb961d75",
   "metadata": {},
   "outputs": [],
   "source": []
  },
  {
   "cell_type": "code",
   "execution_count": null,
   "id": "38721abf",
   "metadata": {},
   "outputs": [],
   "source": []
  },
  {
   "cell_type": "code",
   "execution_count": 10,
   "id": "292c0497",
   "metadata": {},
   "outputs": [
    {
     "name": "stderr",
     "output_type": "stream",
     "text": [
      "20it [00:21,  1.10s/it]"
     ]
    },
    {
     "name": "stdout",
     "output_type": "stream",
     "text": [
      "20\n"
     ]
    },
    {
     "name": "stderr",
     "output_type": "stream",
     "text": [
      "30it [00:38,  2.14s/it]"
     ]
    },
    {
     "name": "stdout",
     "output_type": "stream",
     "text": [
      "30\n"
     ]
    },
    {
     "name": "stderr",
     "output_type": "stream",
     "text": [
      "40it [00:57,  2.15s/it]c:\\users\\nandhu\\appdata\\local\\programs\\python\\python38\\lib\\site-packages\\librosa\\core\\spectrum.py:222: UserWarning: n_fft=2048 is too small for input signal of length=1882\n",
      "  warnings.warn(\n",
      "49it [01:18,  1.75s/it]"
     ]
    },
    {
     "name": "stdout",
     "output_type": "stream",
     "text": [
      "50\n"
     ]
    },
    {
     "name": "stderr",
     "output_type": "stream",
     "text": [
      "77it [02:19,  1.72s/it]"
     ]
    },
    {
     "name": "stdout",
     "output_type": "stream",
     "text": [
      "82\n"
     ]
    },
    {
     "name": "stderr",
     "output_type": "stream",
     "text": [
      "92it [02:44,  2.16s/it]"
     ]
    },
    {
     "name": "stdout",
     "output_type": "stream",
     "text": [
      "100\n"
     ]
    },
    {
     "name": "stderr",
     "output_type": "stream",
     "text": [
      "98it [02:54,  1.49s/it]"
     ]
    },
    {
     "name": "stdout",
     "output_type": "stream",
     "text": [
      "105\n"
     ]
    },
    {
     "name": "stderr",
     "output_type": "stream",
     "text": [
      "173it [05:30,  1.66s/it]"
     ]
    },
    {
     "name": "stdout",
     "output_type": "stream",
     "text": [
      "194\n"
     ]
    },
    {
     "name": "stderr",
     "output_type": "stream",
     "text": [
      "295it [10:05,  2.37s/it]"
     ]
    },
    {
     "name": "stdout",
     "output_type": "stream",
     "text": [
      "330\n"
     ]
    },
    {
     "name": "stderr",
     "output_type": "stream",
     "text": [
      "305it [10:25,  1.85s/it]"
     ]
    },
    {
     "name": "stdout",
     "output_type": "stream",
     "text": [
      "342\n"
     ]
    },
    {
     "name": "stderr",
     "output_type": "stream",
     "text": [
      "308it [10:28,  1.30s/it]"
     ]
    },
    {
     "name": "stdout",
     "output_type": "stream",
     "text": [
      "345\n"
     ]
    },
    {
     "name": "stderr",
     "output_type": "stream",
     "text": [
      "331it [11:21,  2.24s/it]"
     ]
    },
    {
     "name": "stdout",
     "output_type": "stream",
     "text": [
      "369\n"
     ]
    },
    {
     "name": "stderr",
     "output_type": "stream",
     "text": [
      "360it [12:21,  2.30s/it]"
     ]
    },
    {
     "name": "stdout",
     "output_type": "stream",
     "text": [
      "402\n"
     ]
    },
    {
     "name": "stderr",
     "output_type": "stream",
     "text": [
      "409it [14:14,  2.09s/it]"
     ]
    },
    {
     "name": "stdout",
     "output_type": "stream",
     "text": [
      "460\n"
     ]
    },
    {
     "name": "stderr",
     "output_type": "stream",
     "text": [
      "561it [19:49,  1.76s/it]"
     ]
    },
    {
     "name": "stdout",
     "output_type": "stream",
     "text": [
      "640\n"
     ]
    },
    {
     "name": "stderr",
     "output_type": "stream",
     "text": [
      "563it [19:52,  1.69s/it]"
     ]
    },
    {
     "name": "stdout",
     "output_type": "stream",
     "text": [
      "643\n"
     ]
    },
    {
     "name": "stderr",
     "output_type": "stream",
     "text": [
      "576it [20:19,  1.72s/it]"
     ]
    },
    {
     "name": "stdout",
     "output_type": "stream",
     "text": [
      "661\n"
     ]
    },
    {
     "name": "stderr",
     "output_type": "stream",
     "text": [
      "594it [20:51,  1.73s/it]"
     ]
    },
    {
     "name": "stdout",
     "output_type": "stream",
     "text": [
      "705\n"
     ]
    },
    {
     "name": "stderr",
     "output_type": "stream",
     "text": [
      "612it [21:20,  1.31s/it]"
     ]
    },
    {
     "name": "stdout",
     "output_type": "stream",
     "text": [
      "729\n"
     ]
    },
    {
     "name": "stderr",
     "output_type": "stream",
     "text": [
      "649it [22:32,  1.79s/it]"
     ]
    },
    {
     "name": "stdout",
     "output_type": "stream",
     "text": [
      "775\n"
     ]
    },
    {
     "name": "stderr",
     "output_type": "stream",
     "text": [
      "661it [22:54,  1.75s/it]"
     ]
    },
    {
     "name": "stdout",
     "output_type": "stream",
     "text": [
      "788\n"
     ]
    },
    {
     "name": "stderr",
     "output_type": "stream",
     "text": [
      "672it [23:11,  1.45s/it]"
     ]
    },
    {
     "name": "stdout",
     "output_type": "stream",
     "text": [
      "799\n"
     ]
    },
    {
     "name": "stderr",
     "output_type": "stream",
     "text": [
      "876it [30:37,  1.72s/it]"
     ]
    },
    {
     "name": "stdout",
     "output_type": "stream",
     "text": [
      "1022\n"
     ]
    },
    {
     "name": "stderr",
     "output_type": "stream",
     "text": [
      "878it [30:42,  2.02s/it]"
     ]
    },
    {
     "name": "stdout",
     "output_type": "stream",
     "text": [
      "1026\n"
     ]
    },
    {
     "name": "stderr",
     "output_type": "stream",
     "text": [
      "881it [30:44,  1.21s/it]"
     ]
    },
    {
     "name": "stdout",
     "output_type": "stream",
     "text": [
      "1028\n"
     ]
    },
    {
     "name": "stderr",
     "output_type": "stream",
     "text": [
      "886it [30:54,  1.46s/it]"
     ]
    },
    {
     "name": "stdout",
     "output_type": "stream",
     "text": [
      "1033\n"
     ]
    },
    {
     "name": "stderr",
     "output_type": "stream",
     "text": [
      "964it [33:36,  1.70s/it]"
     ]
    },
    {
     "name": "stdout",
     "output_type": "stream",
     "text": [
      "1121\n"
     ]
    },
    {
     "name": "stderr",
     "output_type": "stream",
     "text": [
      "995it [34:29,  1.66s/it]"
     ]
    },
    {
     "name": "stdout",
     "output_type": "stream",
     "text": [
      "1156\n"
     ]
    },
    {
     "name": "stderr",
     "output_type": "stream",
     "text": [
      "1008it [34:52,  2.13s/it]"
     ]
    },
    {
     "name": "stdout",
     "output_type": "stream",
     "text": [
      "1173\n"
     ]
    },
    {
     "name": "stderr",
     "output_type": "stream",
     "text": [
      "1027it [35:25,  1.80s/it]"
     ]
    },
    {
     "name": "stdout",
     "output_type": "stream",
     "text": [
      "1195\n"
     ]
    },
    {
     "name": "stderr",
     "output_type": "stream",
     "text": [
      "1040it [35:46,  1.32s/it]"
     ]
    },
    {
     "name": "stdout",
     "output_type": "stream",
     "text": [
      "1208\n"
     ]
    },
    {
     "name": "stderr",
     "output_type": "stream",
     "text": [
      "1068it [36:53,  2.10s/it]"
     ]
    },
    {
     "name": "stdout",
     "output_type": "stream",
     "text": [
      "1242\n"
     ]
    },
    {
     "name": "stderr",
     "output_type": "stream",
     "text": [
      "1094it [37:53,  2.65s/it]"
     ]
    },
    {
     "name": "stdout",
     "output_type": "stream",
     "text": [
      "1271\n"
     ]
    },
    {
     "name": "stderr",
     "output_type": "stream",
     "text": [
      "1110it [38:20,  1.88s/it]"
     ]
    },
    {
     "name": "stdout",
     "output_type": "stream",
     "text": [
      "1287\n"
     ]
    },
    {
     "name": "stderr",
     "output_type": "stream",
     "text": [
      "1153it [39:46,  1.72s/it]"
     ]
    },
    {
     "name": "stdout",
     "output_type": "stream",
     "text": [
      "1337\n"
     ]
    },
    {
     "name": "stderr",
     "output_type": "stream",
     "text": [
      "1192it [41:16,  2.08s/it]\n"
     ]
    }
   ],
   "source": [
    "\n",
    "import numpy as np\n",
    "from tqdm import tqdm\n",
    "### Now we iterate through every audio file and extract features \n",
    "### using Mel-Frequency Cepstral Coefficients\n",
    "extracted_features=[]\n",
    "for index_num,row in tqdm(data.iterrows()):\n",
    "    \n",
    "    try:\n",
    "        breathing_deep=features_extractor(row['breathing-deep'][1:])\n",
    "        breathing_shallow=features_extractor(row['breathing-shallow'][1:])\n",
    "        cough_heavy=features_extractor(row['cough-heavy'][1:])\n",
    "        cough_shallow=features_extractor(row['cough-shallow'][1:])\n",
    "        counting_fast=features_extractor(row['counting-fast'][1:])\n",
    "        counting_normal=features_extractor(row['counting-normal'][1:])\n",
    "        vowel_a=features_extractor(row['vowel-a'][1:])\n",
    "        vowel_e=features_extractor(row['vowel-e'][1:])\n",
    "        vowel_o=features_extractor(row['vowel-o'][1:])\n",
    "        final_class_labels=row[\"COVID_test_status\"]\n",
    "        extracted_features.append([breathing_deep,breathing_shallow,cough_heavy,cough_shallow,counting_fast,counting_normal,vowel_a,vowel_e,vowel_o,final_class_labels])\n",
    "    except:\n",
    "        print(index_num)\n",
    "        data.drop(index_num,axis=0,inplace=True)\n",
    "    \n",
    "    \n",
    "    \n",
    "    \n",
    "    \n",
    " "
   ]
  },
  {
   "cell_type": "code",
   "execution_count": 11,
   "id": "9414a7a9",
   "metadata": {},
   "outputs": [
    {
     "data": {
      "text/html": [
       "<div>\n",
       "<style scoped>\n",
       "    .dataframe tbody tr th:only-of-type {\n",
       "        vertical-align: middle;\n",
       "    }\n",
       "\n",
       "    .dataframe tbody tr th {\n",
       "        vertical-align: top;\n",
       "    }\n",
       "\n",
       "    .dataframe thead th {\n",
       "        text-align: right;\n",
       "    }\n",
       "</style>\n",
       "<table border=\"1\" class=\"dataframe\">\n",
       "  <thead>\n",
       "    <tr style=\"text-align: right;\">\n",
       "      <th></th>\n",
       "      <th>breathing-deep</th>\n",
       "      <th>breathing-shallow</th>\n",
       "      <th>cough-heavy</th>\n",
       "      <th>cough-shallow</th>\n",
       "      <th>counting-fast</th>\n",
       "      <th>counting-normal</th>\n",
       "      <th>vowel-a</th>\n",
       "      <th>vowel-e</th>\n",
       "      <th>vowel-o</th>\n",
       "      <th>COVID_test_status</th>\n",
       "    </tr>\n",
       "  </thead>\n",
       "  <tbody>\n",
       "    <tr>\n",
       "      <th>0</th>\n",
       "      <td>[-563.4152, 64.284454, 19.940138, 11.124364, 6...</td>\n",
       "      <td>[-381.53284, 37.114674, 0.03703923, 21.305721,...</td>\n",
       "      <td>[-342.1565, 37.221912, -6.223827, -1.6743089, ...</td>\n",
       "      <td>[-393.10092, 65.786224, 17.106403, 10.076809, ...</td>\n",
       "      <td>[-270.8479, 129.53772, 10.886058, 23.132307, 3...</td>\n",
       "      <td>[-288.50092, 128.61905, 10.194615, 28.853632, ...</td>\n",
       "      <td>[-264.14993, 92.88714, -3.6609643, 57.162136, ...</td>\n",
       "      <td>[-270.48657, 46.18573, 24.801638, 83.89208, 15...</td>\n",
       "      <td>[-336.4915, 146.3679, 52.814167, 26.377811, -1...</td>\n",
       "      <td>0.0</td>\n",
       "    </tr>\n",
       "    <tr>\n",
       "      <th>1</th>\n",
       "      <td>[-772.2001, 23.508432, 6.7094464, 9.130653, -3...</td>\n",
       "      <td>[-682.2115, 44.265163, 4.7254763, 9.802275, -2...</td>\n",
       "      <td>[-474.7604, 31.517086, -10.442603, 5.4611883, ...</td>\n",
       "      <td>[-653.7224, 27.07219, 1.0407412, 8.740668, -7....</td>\n",
       "      <td>[-375.7342, 83.955795, -32.212605, 22.27835, 5...</td>\n",
       "      <td>[-448.43552, 75.4549, -23.928333, 19.000431, 3...</td>\n",
       "      <td>[-437.02634, 110.65967, -37.106003, 55.447334,...</td>\n",
       "      <td>[-494.5699, 52.546795, -23.715464, 74.00454, -...</td>\n",
       "      <td>[-540.8191, 85.39087, 49.038723, 31.558634, 1....</td>\n",
       "      <td>0.0</td>\n",
       "    </tr>\n",
       "    <tr>\n",
       "      <th>2</th>\n",
       "      <td>[-673.0831, 48.552242, -22.815031, 13.344558, ...</td>\n",
       "      <td>[-461.72476, 19.102869, -24.176386, 42.559433,...</td>\n",
       "      <td>[-355.05667, 58.15219, -71.779755, 6.660527, -...</td>\n",
       "      <td>[-485.85046, 29.984562, -33.330074, 1.8510306,...</td>\n",
       "      <td>[-292.19995, 91.9614, -13.639974, 28.044346, -...</td>\n",
       "      <td>[-372.17368, 63.701775, -13.508073, 34.070454,...</td>\n",
       "      <td>[-406.82318, 87.51073, -8.430027, 27.925545, 1...</td>\n",
       "      <td>[-366.53506, 50.660305, 6.356074, 70.09271, -7...</td>\n",
       "      <td>[-467.33417, 97.40905, 35.208553, -3.3956866, ...</td>\n",
       "      <td>0.0</td>\n",
       "    </tr>\n",
       "    <tr>\n",
       "      <th>3</th>\n",
       "      <td>[-619.0541, 54.504765, -13.623362, 20.284334, ...</td>\n",
       "      <td>[-571.01025, 45.58388, -25.452042, 15.899977, ...</td>\n",
       "      <td>[-330.12964, 96.423386, -6.514226, -8.141525, ...</td>\n",
       "      <td>[-431.63528, 102.562515, -38.693794, -2.759346...</td>\n",
       "      <td>[-320.41925, 142.44325, 6.758056, 24.950098, 4...</td>\n",
       "      <td>[-365.39178, 113.71061, 15.439335, 23.709126, ...</td>\n",
       "      <td>[-303.73856, 132.9481, -20.988487, 50.044064, ...</td>\n",
       "      <td>[-322.30563, 94.06632, -1.8899682, 74.07982, 5...</td>\n",
       "      <td>[-386.4578, 159.10226, 52.77917, 15.902247, 0....</td>\n",
       "      <td>0.0</td>\n",
       "    </tr>\n",
       "    <tr>\n",
       "      <th>4</th>\n",
       "      <td>[-452.99472, 4.9960327, -29.335024, 67.2377, -...</td>\n",
       "      <td>[-248.70363, 41.46017, -48.41895, 26.381567, -...</td>\n",
       "      <td>[-318.01562, 70.35575, -1.0281557, 21.991983, ...</td>\n",
       "      <td>[-397.40314, 81.40054, 6.3782716, 18.352776, -...</td>\n",
       "      <td>[-293.26428, 117.02553, 5.9809484, 48.170086, ...</td>\n",
       "      <td>[-383.201, 103.510956, -9.656663, 48.841137, 1...</td>\n",
       "      <td>[-341.38876, 114.77605, 7.588142, 67.15974, 26...</td>\n",
       "      <td>[-339.16733, 46.541653, 16.475906, 112.508896,...</td>\n",
       "      <td>[-376.1096, 127.98153, 34.367485, 33.065277, -...</td>\n",
       "      <td>0.0</td>\n",
       "    </tr>\n",
       "  </tbody>\n",
       "</table>\n",
       "</div>"
      ],
      "text/plain": [
       "                                      breathing-deep  \\\n",
       "0  [-563.4152, 64.284454, 19.940138, 11.124364, 6...   \n",
       "1  [-772.2001, 23.508432, 6.7094464, 9.130653, -3...   \n",
       "2  [-673.0831, 48.552242, -22.815031, 13.344558, ...   \n",
       "3  [-619.0541, 54.504765, -13.623362, 20.284334, ...   \n",
       "4  [-452.99472, 4.9960327, -29.335024, 67.2377, -...   \n",
       "\n",
       "                                   breathing-shallow  \\\n",
       "0  [-381.53284, 37.114674, 0.03703923, 21.305721,...   \n",
       "1  [-682.2115, 44.265163, 4.7254763, 9.802275, -2...   \n",
       "2  [-461.72476, 19.102869, -24.176386, 42.559433,...   \n",
       "3  [-571.01025, 45.58388, -25.452042, 15.899977, ...   \n",
       "4  [-248.70363, 41.46017, -48.41895, 26.381567, -...   \n",
       "\n",
       "                                         cough-heavy  \\\n",
       "0  [-342.1565, 37.221912, -6.223827, -1.6743089, ...   \n",
       "1  [-474.7604, 31.517086, -10.442603, 5.4611883, ...   \n",
       "2  [-355.05667, 58.15219, -71.779755, 6.660527, -...   \n",
       "3  [-330.12964, 96.423386, -6.514226, -8.141525, ...   \n",
       "4  [-318.01562, 70.35575, -1.0281557, 21.991983, ...   \n",
       "\n",
       "                                       cough-shallow  \\\n",
       "0  [-393.10092, 65.786224, 17.106403, 10.076809, ...   \n",
       "1  [-653.7224, 27.07219, 1.0407412, 8.740668, -7....   \n",
       "2  [-485.85046, 29.984562, -33.330074, 1.8510306,...   \n",
       "3  [-431.63528, 102.562515, -38.693794, -2.759346...   \n",
       "4  [-397.40314, 81.40054, 6.3782716, 18.352776, -...   \n",
       "\n",
       "                                       counting-fast  \\\n",
       "0  [-270.8479, 129.53772, 10.886058, 23.132307, 3...   \n",
       "1  [-375.7342, 83.955795, -32.212605, 22.27835, 5...   \n",
       "2  [-292.19995, 91.9614, -13.639974, 28.044346, -...   \n",
       "3  [-320.41925, 142.44325, 6.758056, 24.950098, 4...   \n",
       "4  [-293.26428, 117.02553, 5.9809484, 48.170086, ...   \n",
       "\n",
       "                                     counting-normal  \\\n",
       "0  [-288.50092, 128.61905, 10.194615, 28.853632, ...   \n",
       "1  [-448.43552, 75.4549, -23.928333, 19.000431, 3...   \n",
       "2  [-372.17368, 63.701775, -13.508073, 34.070454,...   \n",
       "3  [-365.39178, 113.71061, 15.439335, 23.709126, ...   \n",
       "4  [-383.201, 103.510956, -9.656663, 48.841137, 1...   \n",
       "\n",
       "                                             vowel-a  \\\n",
       "0  [-264.14993, 92.88714, -3.6609643, 57.162136, ...   \n",
       "1  [-437.02634, 110.65967, -37.106003, 55.447334,...   \n",
       "2  [-406.82318, 87.51073, -8.430027, 27.925545, 1...   \n",
       "3  [-303.73856, 132.9481, -20.988487, 50.044064, ...   \n",
       "4  [-341.38876, 114.77605, 7.588142, 67.15974, 26...   \n",
       "\n",
       "                                             vowel-e  \\\n",
       "0  [-270.48657, 46.18573, 24.801638, 83.89208, 15...   \n",
       "1  [-494.5699, 52.546795, -23.715464, 74.00454, -...   \n",
       "2  [-366.53506, 50.660305, 6.356074, 70.09271, -7...   \n",
       "3  [-322.30563, 94.06632, -1.8899682, 74.07982, 5...   \n",
       "4  [-339.16733, 46.541653, 16.475906, 112.508896,...   \n",
       "\n",
       "                                             vowel-o  COVID_test_status  \n",
       "0  [-336.4915, 146.3679, 52.814167, 26.377811, -1...                0.0  \n",
       "1  [-540.8191, 85.39087, 49.038723, 31.558634, 1....                0.0  \n",
       "2  [-467.33417, 97.40905, 35.208553, -3.3956866, ...                0.0  \n",
       "3  [-386.4578, 159.10226, 52.77917, 15.902247, 0....                0.0  \n",
       "4  [-376.1096, 127.98153, 34.367485, 33.065277, -...                0.0  "
      ]
     },
     "execution_count": 11,
     "metadata": {},
     "output_type": "execute_result"
    }
   ],
   "source": [
    "extracted_features=pd.DataFrame(extracted_features,columns=['breathing-deep', 'breathing-shallow', 'cough-heavy',\n",
    "       'cough-shallow', 'counting-fast', 'counting-normal', 'vowel-a',\n",
    "       'vowel-e', 'vowel-o','COVID_test_status'])\n",
    "extracted_features.head()"
   ]
  },
  {
   "cell_type": "code",
   "execution_count": 12,
   "id": "49dc85df",
   "metadata": {},
   "outputs": [],
   "source": [
    "extracted_features.to_csv('file1.csv')"
   ]
  },
  {
   "cell_type": "code",
   "execution_count": 24,
   "id": "5b87be64",
   "metadata": {},
   "outputs": [
    {
     "data": {
      "text/plain": [
       "1158"
      ]
     },
     "execution_count": 24,
     "metadata": {},
     "output_type": "execute_result"
    }
   ],
   "source": [
    "(extracted_features['COVID_test_status']==1).count()"
   ]
  },
  {
   "cell_type": "code",
   "execution_count": 25,
   "id": "6b11494a",
   "metadata": {},
   "outputs": [],
   "source": [
    "sum=0"
   ]
  },
  {
   "cell_type": "code",
   "execution_count": 30,
   "id": "1c7a0204",
   "metadata": {},
   "outputs": [],
   "source": []
  },
  {
   "cell_type": "code",
   "execution_count": 31,
   "id": "5949888b",
   "metadata": {},
   "outputs": [
    {
     "name": "stdout",
     "output_type": "stream",
     "text": [
      "11\n"
     ]
    }
   ],
   "source": [
    "print(sum)"
   ]
  },
  {
   "cell_type": "code",
   "execution_count": 36,
   "id": "55aa01e9",
   "metadata": {},
   "outputs": [
    {
     "data": {
      "text/plain": [
       "0.0    1147\n",
       "1.0      11\n",
       "Name: COVID_test_status, dtype: int64"
      ]
     },
     "execution_count": 36,
     "metadata": {},
     "output_type": "execute_result"
    }
   ],
   "source": [
    "extracted_features['COVID_test_status'].value_counts()"
   ]
  },
  {
   "cell_type": "code",
   "execution_count": 29,
   "id": "8790382a",
   "metadata": {},
   "outputs": [
    {
     "data": {
      "text/plain": [
       "array([0., 1.])"
      ]
     },
     "execution_count": 29,
     "metadata": {},
     "output_type": "execute_result"
    }
   ],
   "source": [
    "data['COVID_test_status'].unique()"
   ]
  },
  {
   "cell_type": "code",
   "execution_count": null,
   "id": "9b0c1803",
   "metadata": {},
   "outputs": [],
   "source": []
  }
 ],
 "metadata": {
  "kernelspec": {
   "display_name": "Python 3",
   "language": "python",
   "name": "python3"
  },
  "language_info": {
   "codemirror_mode": {
    "name": "ipython",
    "version": 3
   },
   "file_extension": ".py",
   "mimetype": "text/x-python",
   "name": "python",
   "nbconvert_exporter": "python",
   "pygments_lexer": "ipython3",
   "version": "3.8.3"
  }
 },
 "nbformat": 4,
 "nbformat_minor": 5
}
